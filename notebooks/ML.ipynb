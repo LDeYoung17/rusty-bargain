{
 "cells": [
  {
   "cell_type": "markdown",
   "metadata": {},
   "source": [
    "%%time\n",
    "<h1>Introduction</h1>\n",
    "Rusty Bargain is building an application that customers will be able to use to find the market value of their car. They want to use data that they already have from users who have posted their cars to sell, which includes technical and trim data about their car as well as price data. To that end, they are looking for a machine learning model that will be able to predict the market value of cars in an accurate and timely manner.\n",
    "\n",
    "This project takes a look at five different machine learning models, two of which use gradient boosting methods, to evaluate which will be the fastest and most accurate for Rusty Bargain to implement, and then makes a recommendation based on the findings."
   ]
  },
  {
   "cell_type": "markdown",
   "metadata": {},
   "source": [
    "Import statements necessary for this project"
   ]
  },
  {
   "cell_type": "code",
   "execution_count": 1,
   "metadata": {},
   "outputs": [
    {
     "name": "stdout",
     "output_type": "stream",
     "text": [
      "CPU times: user 2.39 s, sys: 416 ms, total: 2.81 s\n",
      "Wall time: 3.18 s\n"
     ]
    }
   ],
   "source": [
    "%%time\n",
    "import pandas as pd\n",
    "import numpy as np\n",
    "from IPython.display import display\n",
    "import math\n",
    "import matplotlib.pyplot as plt\n",
    "import seaborn as sns\n",
    "from sklearn.linear_model import LinearRegression\t\n",
    "from sklearn.tree import DecisionTreeRegressor\n",
    "from sklearn.ensemble import RandomForestRegressor\n",
    "from sklearn.dummy import DummyRegressor\n",
    "from sklearn.metrics import make_scorer\n",
    "from sklearn.model_selection import cross_val_score\n",
    "from sklearn.metrics import mean_squared_error\n",
    "from sklearn.preprocessing import StandardScaler\n",
    "from sklearn.preprocessing import LabelEncoder\n",
    "from catboost import CatBoostRegressor\n",
    "from lightgbm import LGBMRegressor\n",
    "from xgboost import XGBRegressor\n",
    "from sklearn.model_selection import train_test_split\n",
    "plt.style.use('ggplot')"
   ]
  },
  {
   "cell_type": "markdown",
   "metadata": {},
   "source": [
    "Importing the data"
   ]
  },
  {
   "cell_type": "code",
   "execution_count": 2,
   "metadata": {},
   "outputs": [
    {
     "name": "stdout",
     "output_type": "stream",
     "text": [
      "CPU times: user 572 ms, sys: 108 ms, total: 680 ms\n",
      "Wall time: 703 ms\n"
     ]
    }
   ],
   "source": [
    "%%time\n",
    "car_data = pd.read_csv(\"/Users/admin/Library/Mobile Documents/com~apple~CloudDocs/GitHub/rusty-bargain/car_data.csv\", encoding = \"utf-8\")\n"
   ]
  },
  {
   "cell_type": "markdown",
   "metadata": {},
   "source": [
    "Looking at a sample of the data and information about the dataframe"
   ]
  },
  {
   "cell_type": "code",
   "execution_count": 3,
   "metadata": {},
   "outputs": [
    {
     "data": {
      "text/html": [
       "<div>\n",
       "<style scoped>\n",
       "    .dataframe tbody tr th:only-of-type {\n",
       "        vertical-align: middle;\n",
       "    }\n",
       "\n",
       "    .dataframe tbody tr th {\n",
       "        vertical-align: top;\n",
       "    }\n",
       "\n",
       "    .dataframe thead th {\n",
       "        text-align: right;\n",
       "    }\n",
       "</style>\n",
       "<table border=\"1\" class=\"dataframe\">\n",
       "  <thead>\n",
       "    <tr style=\"text-align: right;\">\n",
       "      <th></th>\n",
       "      <th>DateCrawled</th>\n",
       "      <th>Price</th>\n",
       "      <th>VehicleType</th>\n",
       "      <th>RegistrationYear</th>\n",
       "      <th>Gearbox</th>\n",
       "      <th>Power</th>\n",
       "      <th>Model</th>\n",
       "      <th>Mileage</th>\n",
       "      <th>RegistrationMonth</th>\n",
       "      <th>FuelType</th>\n",
       "      <th>Brand</th>\n",
       "      <th>NotRepaired</th>\n",
       "      <th>DateCreated</th>\n",
       "      <th>NumberOfPictures</th>\n",
       "      <th>PostalCode</th>\n",
       "      <th>LastSeen</th>\n",
       "    </tr>\n",
       "  </thead>\n",
       "  <tbody>\n",
       "    <tr>\n",
       "      <th>176495</th>\n",
       "      <td>07/04/2016 12:25</td>\n",
       "      <td>15300</td>\n",
       "      <td>small</td>\n",
       "      <td>2015</td>\n",
       "      <td>manual</td>\n",
       "      <td>90</td>\n",
       "      <td>polo</td>\n",
       "      <td>20000</td>\n",
       "      <td>5</td>\n",
       "      <td>petrol</td>\n",
       "      <td>volkswagen</td>\n",
       "      <td>no</td>\n",
       "      <td>07/04/2016 00:00</td>\n",
       "      <td>0</td>\n",
       "      <td>65185</td>\n",
       "      <td>07/04/2016 12:25</td>\n",
       "    </tr>\n",
       "    <tr>\n",
       "      <th>140463</th>\n",
       "      <td>16/03/2016 00:36</td>\n",
       "      <td>0</td>\n",
       "      <td>NaN</td>\n",
       "      <td>2017</td>\n",
       "      <td>manual</td>\n",
       "      <td>75</td>\n",
       "      <td>fabia</td>\n",
       "      <td>150000</td>\n",
       "      <td>9</td>\n",
       "      <td>petrol</td>\n",
       "      <td>skoda</td>\n",
       "      <td>no</td>\n",
       "      <td>16/03/2016 00:00</td>\n",
       "      <td>0</td>\n",
       "      <td>28790</td>\n",
       "      <td>16/03/2016 08:47</td>\n",
       "    </tr>\n",
       "    <tr>\n",
       "      <th>87828</th>\n",
       "      <td>09/03/2016 19:40</td>\n",
       "      <td>5400</td>\n",
       "      <td>coupe</td>\n",
       "      <td>1992</td>\n",
       "      <td>manual</td>\n",
       "      <td>169</td>\n",
       "      <td>other</td>\n",
       "      <td>150000</td>\n",
       "      <td>1</td>\n",
       "      <td>petrol</td>\n",
       "      <td>nissan</td>\n",
       "      <td>no</td>\n",
       "      <td>09/03/2016 00:00</td>\n",
       "      <td>0</td>\n",
       "      <td>71067</td>\n",
       "      <td>17/03/2016 23:45</td>\n",
       "    </tr>\n",
       "    <tr>\n",
       "      <th>136779</th>\n",
       "      <td>09/03/2016 16:56</td>\n",
       "      <td>11800</td>\n",
       "      <td>sedan</td>\n",
       "      <td>2010</td>\n",
       "      <td>auto</td>\n",
       "      <td>122</td>\n",
       "      <td>golf</td>\n",
       "      <td>50000</td>\n",
       "      <td>5</td>\n",
       "      <td>petrol</td>\n",
       "      <td>volkswagen</td>\n",
       "      <td>no</td>\n",
       "      <td>09/03/2016 00:00</td>\n",
       "      <td>0</td>\n",
       "      <td>16540</td>\n",
       "      <td>05/04/2016 05:46</td>\n",
       "    </tr>\n",
       "    <tr>\n",
       "      <th>26756</th>\n",
       "      <td>27/03/2016 22:48</td>\n",
       "      <td>4900</td>\n",
       "      <td>NaN</td>\n",
       "      <td>2016</td>\n",
       "      <td>manual</td>\n",
       "      <td>105</td>\n",
       "      <td>NaN</td>\n",
       "      <td>150000</td>\n",
       "      <td>6</td>\n",
       "      <td>gasoline</td>\n",
       "      <td>volkswagen</td>\n",
       "      <td>NaN</td>\n",
       "      <td>27/03/2016 00:00</td>\n",
       "      <td>0</td>\n",
       "      <td>31785</td>\n",
       "      <td>02/04/2016 00:45</td>\n",
       "    </tr>\n",
       "    <tr>\n",
       "      <th>48391</th>\n",
       "      <td>23/03/2016 17:39</td>\n",
       "      <td>1165</td>\n",
       "      <td>wagon</td>\n",
       "      <td>2003</td>\n",
       "      <td>manual</td>\n",
       "      <td>180</td>\n",
       "      <td>omega</td>\n",
       "      <td>150000</td>\n",
       "      <td>3</td>\n",
       "      <td>petrol</td>\n",
       "      <td>opel</td>\n",
       "      <td>no</td>\n",
       "      <td>23/03/2016 00:00</td>\n",
       "      <td>0</td>\n",
       "      <td>99880</td>\n",
       "      <td>31/03/2016 04:45</td>\n",
       "    </tr>\n",
       "    <tr>\n",
       "      <th>242965</th>\n",
       "      <td>09/03/2016 11:54</td>\n",
       "      <td>2999</td>\n",
       "      <td>sedan</td>\n",
       "      <td>1984</td>\n",
       "      <td>auto</td>\n",
       "      <td>75</td>\n",
       "      <td>golf</td>\n",
       "      <td>80000</td>\n",
       "      <td>7</td>\n",
       "      <td>petrol</td>\n",
       "      <td>volkswagen</td>\n",
       "      <td>NaN</td>\n",
       "      <td>09/03/2016 00:00</td>\n",
       "      <td>0</td>\n",
       "      <td>66265</td>\n",
       "      <td>24/03/2016 22:46</td>\n",
       "    </tr>\n",
       "    <tr>\n",
       "      <th>222929</th>\n",
       "      <td>03/04/2016 14:49</td>\n",
       "      <td>6500</td>\n",
       "      <td>small</td>\n",
       "      <td>2008</td>\n",
       "      <td>manual</td>\n",
       "      <td>80</td>\n",
       "      <td>polo</td>\n",
       "      <td>70000</td>\n",
       "      <td>10</td>\n",
       "      <td>petrol</td>\n",
       "      <td>volkswagen</td>\n",
       "      <td>no</td>\n",
       "      <td>03/04/2016 00:00</td>\n",
       "      <td>0</td>\n",
       "      <td>56170</td>\n",
       "      <td>06/04/2016 21:45</td>\n",
       "    </tr>\n",
       "    <tr>\n",
       "      <th>52198</th>\n",
       "      <td>08/03/2016 16:55</td>\n",
       "      <td>8989</td>\n",
       "      <td>small</td>\n",
       "      <td>2013</td>\n",
       "      <td>manual</td>\n",
       "      <td>60</td>\n",
       "      <td>fiesta</td>\n",
       "      <td>50000</td>\n",
       "      <td>7</td>\n",
       "      <td>lpg</td>\n",
       "      <td>ford</td>\n",
       "      <td>no</td>\n",
       "      <td>08/03/2016 00:00</td>\n",
       "      <td>0</td>\n",
       "      <td>40885</td>\n",
       "      <td>07/04/2016 03:16</td>\n",
       "    </tr>\n",
       "    <tr>\n",
       "      <th>233325</th>\n",
       "      <td>05/04/2016 12:36</td>\n",
       "      <td>899</td>\n",
       "      <td>sedan</td>\n",
       "      <td>1999</td>\n",
       "      <td>manual</td>\n",
       "      <td>113</td>\n",
       "      <td>laguna</td>\n",
       "      <td>150000</td>\n",
       "      <td>3</td>\n",
       "      <td>gasoline</td>\n",
       "      <td>renault</td>\n",
       "      <td>no</td>\n",
       "      <td>05/04/2016 00:00</td>\n",
       "      <td>0</td>\n",
       "      <td>34212</td>\n",
       "      <td>05/04/2016 12:36</td>\n",
       "    </tr>\n",
       "  </tbody>\n",
       "</table>\n",
       "</div>"
      ],
      "text/plain": [
       "             DateCrawled  Price VehicleType  RegistrationYear Gearbox  Power  \\\n",
       "176495  07/04/2016 12:25  15300       small              2015  manual     90   \n",
       "140463  16/03/2016 00:36      0         NaN              2017  manual     75   \n",
       "87828   09/03/2016 19:40   5400       coupe              1992  manual    169   \n",
       "136779  09/03/2016 16:56  11800       sedan              2010    auto    122   \n",
       "26756   27/03/2016 22:48   4900         NaN              2016  manual    105   \n",
       "48391   23/03/2016 17:39   1165       wagon              2003  manual    180   \n",
       "242965  09/03/2016 11:54   2999       sedan              1984    auto     75   \n",
       "222929  03/04/2016 14:49   6500       small              2008  manual     80   \n",
       "52198   08/03/2016 16:55   8989       small              2013  manual     60   \n",
       "233325  05/04/2016 12:36    899       sedan              1999  manual    113   \n",
       "\n",
       "         Model  Mileage  RegistrationMonth  FuelType       Brand NotRepaired  \\\n",
       "176495    polo    20000                  5    petrol  volkswagen          no   \n",
       "140463   fabia   150000                  9    petrol       skoda          no   \n",
       "87828    other   150000                  1    petrol      nissan          no   \n",
       "136779    golf    50000                  5    petrol  volkswagen          no   \n",
       "26756      NaN   150000                  6  gasoline  volkswagen         NaN   \n",
       "48391    omega   150000                  3    petrol        opel          no   \n",
       "242965    golf    80000                  7    petrol  volkswagen         NaN   \n",
       "222929    polo    70000                 10    petrol  volkswagen          no   \n",
       "52198   fiesta    50000                  7       lpg        ford          no   \n",
       "233325  laguna   150000                  3  gasoline     renault          no   \n",
       "\n",
       "             DateCreated  NumberOfPictures  PostalCode          LastSeen  \n",
       "176495  07/04/2016 00:00                 0       65185  07/04/2016 12:25  \n",
       "140463  16/03/2016 00:00                 0       28790  16/03/2016 08:47  \n",
       "87828   09/03/2016 00:00                 0       71067  17/03/2016 23:45  \n",
       "136779  09/03/2016 00:00                 0       16540  05/04/2016 05:46  \n",
       "26756   27/03/2016 00:00                 0       31785  02/04/2016 00:45  \n",
       "48391   23/03/2016 00:00                 0       99880  31/03/2016 04:45  \n",
       "242965  09/03/2016 00:00                 0       66265  24/03/2016 22:46  \n",
       "222929  03/04/2016 00:00                 0       56170  06/04/2016 21:45  \n",
       "52198   08/03/2016 00:00                 0       40885  07/04/2016 03:16  \n",
       "233325  05/04/2016 00:00                 0       34212  05/04/2016 12:36  "
      ]
     },
     "metadata": {},
     "output_type": "display_data"
    },
    {
     "name": "stdout",
     "output_type": "stream",
     "text": [
      "<class 'pandas.core.frame.DataFrame'>\n",
      "RangeIndex: 354369 entries, 0 to 354368\n",
      "Data columns (total 16 columns):\n",
      " #   Column             Non-Null Count   Dtype \n",
      "---  ------             --------------   ----- \n",
      " 0   DateCrawled        354369 non-null  object\n",
      " 1   Price              354369 non-null  int64 \n",
      " 2   VehicleType        316879 non-null  object\n",
      " 3   RegistrationYear   354369 non-null  int64 \n",
      " 4   Gearbox            334536 non-null  object\n",
      " 5   Power              354369 non-null  int64 \n",
      " 6   Model              334664 non-null  object\n",
      " 7   Mileage            354369 non-null  int64 \n",
      " 8   RegistrationMonth  354369 non-null  int64 \n",
      " 9   FuelType           321474 non-null  object\n",
      " 10  Brand              354369 non-null  object\n",
      " 11  NotRepaired        283215 non-null  object\n",
      " 12  DateCreated        354369 non-null  object\n",
      " 13  NumberOfPictures   354369 non-null  int64 \n",
      " 14  PostalCode         354369 non-null  int64 \n",
      " 15  LastSeen           354369 non-null  object\n",
      "dtypes: int64(7), object(9)\n",
      "memory usage: 43.3+ MB\n",
      "CPU times: user 165 ms, sys: 8.49 ms, total: 173 ms\n",
      "Wall time: 185 ms\n"
     ]
    }
   ],
   "source": [
    "%%time\n",
    "display(car_data.sample(10))\n",
    "car_data.info()"
   ]
  },
  {
   "cell_type": "markdown",
   "metadata": {},
   "source": [
    "<h2>Data Preprocessing</h2>"
   ]
  },
  {
   "cell_type": "markdown",
   "metadata": {},
   "source": [
    "Updating the column names to meet standard naming conventions"
   ]
  },
  {
   "cell_type": "code",
   "execution_count": 4,
   "metadata": {},
   "outputs": [
    {
     "name": "stdout",
     "output_type": "stream",
     "text": [
      "CPU times: user 30.7 ms, sys: 19.5 ms, total: 50.2 ms\n",
      "Wall time: 48.5 ms\n"
     ]
    }
   ],
   "source": [
    "%%time\n",
    "car_data = car_data.rename(columns={'DateCrawled': 'date_crawled', 'Price': 'price', 'VehicleType': 'vehicle_type', 'RegistrationYear': 'registration_year', 'Gearbox': 'gear_box', 'Power': 'power', 'Model': 'model', 'Mileage': 'mileage', 'RegistrationMonth': 'registration_month', 'FuelType': 'fuel_type', 'Brand': 'brand', 'NotRepaired': 'not_repaired', 'DateCreated': 'date_created', 'NumberOfPictures': 'number_of_pictures', 'PostalCode': 'postal_code', 'LastSeen': 'last_seen'})\n"
   ]
  },
  {
   "cell_type": "code",
   "execution_count": 5,
   "metadata": {},
   "outputs": [
    {
     "name": "stdout",
     "output_type": "stream",
     "text": [
      "<class 'pandas.core.frame.DataFrame'>\n",
      "RangeIndex: 354369 entries, 0 to 354368\n",
      "Data columns (total 16 columns):\n",
      " #   Column              Non-Null Count   Dtype \n",
      "---  ------              --------------   ----- \n",
      " 0   date_crawled        354369 non-null  object\n",
      " 1   price               354369 non-null  int64 \n",
      " 2   vehicle_type        316879 non-null  object\n",
      " 3   registration_year   354369 non-null  int64 \n",
      " 4   gear_box            334536 non-null  object\n",
      " 5   power               354369 non-null  int64 \n",
      " 6   model               334664 non-null  object\n",
      " 7   mileage             354369 non-null  int64 \n",
      " 8   registration_month  354369 non-null  int64 \n",
      " 9   fuel_type           321474 non-null  object\n",
      " 10  brand               354369 non-null  object\n",
      " 11  not_repaired        283215 non-null  object\n",
      " 12  date_created        354369 non-null  object\n",
      " 13  number_of_pictures  354369 non-null  int64 \n",
      " 14  postal_code         354369 non-null  int64 \n",
      " 15  last_seen           354369 non-null  object\n",
      "dtypes: int64(7), object(9)\n",
      "memory usage: 43.3+ MB\n",
      "CPU times: user 117 ms, sys: 2.81 ms, total: 120 ms\n",
      "Wall time: 118 ms\n"
     ]
    }
   ],
   "source": [
    "%%time\n",
    "car_data.info()"
   ]
  },
  {
   "cell_type": "markdown",
   "metadata": {},
   "source": [
    "This code checks for rows that are entirely duplicated. Several were found, so I removed the duplicate rows."
   ]
  },
  {
   "cell_type": "code",
   "execution_count": 6,
   "metadata": {},
   "outputs": [
    {
     "name": "stdout",
     "output_type": "stream",
     "text": [
      "262\n",
      "0\n",
      "CPU times: user 888 ms, sys: 117 ms, total: 1 s\n",
      "Wall time: 1.03 s\n"
     ]
    }
   ],
   "source": [
    "%%time\n",
    "print(car_data.duplicated().sum())\n",
    "car_data.drop_duplicates(inplace=True)\n",
    "print(car_data.duplicated().sum())\n"
   ]
  },
  {
   "cell_type": "markdown",
   "metadata": {},
   "source": [
    "This code checks for duplicates in different column pairings that I thought might be relevant. However, after getting to a certain point, there were still many duplicates. Since I removed all the duplicate rows, I decided that this endeavor might be fruitless since there are so many variables that might be in common between cars."
   ]
  },
  {
   "cell_type": "code",
   "execution_count": 7,
   "metadata": {},
   "outputs": [
    {
     "name": "stdout",
     "output_type": "stream",
     "text": [
      "351403\n",
      "141525\n",
      "27739\n",
      "1749\n",
      "1749\n",
      "1529\n",
      "CPU times: user 394 ms, sys: 18.6 ms, total: 413 ms\n",
      "Wall time: 412 ms\n"
     ]
    }
   ],
   "source": [
    "%%time\n",
    "print(car_data.duplicated(subset=['model', 'mileage']).sum())\n",
    "print(car_data.duplicated(subset=['model', 'mileage', 'postal_code']).sum())\n",
    "print(car_data.duplicated(subset=['model', 'mileage', 'postal_code', 'date_created']).sum())\n",
    "print(car_data.duplicated(subset=['model', 'mileage', 'postal_code', 'date_created', 'last_seen']).sum())\n",
    "print(car_data.duplicated(subset=['model', 'mileage', 'postal_code', 'date_created', 'last_seen', 'number_of_pictures']).sum())\n",
    "print(car_data.duplicated(subset=['model', 'mileage', 'postal_code', 'date_created', 'last_seen', 'number_of_pictures', 'registration_year']).sum())"
   ]
  },
  {
   "cell_type": "markdown",
   "metadata": {},
   "source": [
    "The following code blocks check for null values in various columns, then searches for those columns to see what a good filler value might be. The code then adds a value to the missing data. It's worth noting that the columns with missing values are all categorical."
   ]
  },
  {
   "cell_type": "code",
   "execution_count": 8,
   "metadata": {},
   "outputs": [
    {
     "name": "stdout",
     "output_type": "stream",
     "text": [
      "37484\n",
      "            date_crawled  price vehicle_type  registration_year gear_box  \\\n",
      "0       24/03/2016 11:52    480          NaN               1993   manual   \n",
      "16      01/04/2016 12:46    300          NaN               2016      NaN   \n",
      "22      23/03/2016 14:52   2900          NaN               2018   manual   \n",
      "26      10/03/2016 19:38   5555          NaN               2017   manual   \n",
      "31      29/03/2016 16:57    899          NaN               2016   manual   \n",
      "...                  ...    ...          ...                ...      ...   \n",
      "354346  07/03/2016 17:06   2600          NaN               2005     auto   \n",
      "354351  11/03/2016 23:40   1900          NaN               2000   manual   \n",
      "354361  09/03/2016 13:37   5250          NaN               2016     auto   \n",
      "354364  21/03/2016 09:50      0          NaN               2005   manual   \n",
      "354365  14/03/2016 17:48   2200          NaN               2005      NaN   \n",
      "\n",
      "        power     model  mileage  registration_month fuel_type  \\\n",
      "0           0      golf   150000                   0    petrol   \n",
      "16         60      polo   150000                   0    petrol   \n",
      "22         90    meriva   150000                   5    petrol   \n",
      "26        125        c4   125000                   4       NaN   \n",
      "31         60      clio   150000                   6    petrol   \n",
      "...       ...       ...      ...                 ...       ...   \n",
      "354346      0  c_klasse   150000                   9       NaN   \n",
      "354351    110       NaN   150000                   7       NaN   \n",
      "354361    150       159   150000                  12       NaN   \n",
      "354364      0      colt   150000                   7    petrol   \n",
      "354365      0       NaN    20000                   1       NaN   \n",
      "\n",
      "                 brand not_repaired      date_created  number_of_pictures  \\\n",
      "0           volkswagen          NaN  24/03/2016 00:00                   0   \n",
      "16          volkswagen          NaN  01/04/2016 00:00                   0   \n",
      "22                opel           no  23/03/2016 00:00                   0   \n",
      "26             citroen           no  10/03/2016 00:00                   0   \n",
      "31             renault          NaN  29/03/2016 00:00                   0   \n",
      "...                ...          ...               ...                 ...   \n",
      "354346   mercedes_benz          NaN  07/03/2016 00:00                   0   \n",
      "354351      volkswagen           no  11/03/2016 00:00                   0   \n",
      "354361      alfa_romeo           no  09/03/2016 00:00                   0   \n",
      "354364      mitsubishi          yes  21/03/2016 00:00                   0   \n",
      "354365  sonstige_autos          NaN  14/03/2016 00:00                   0   \n",
      "\n",
      "        postal_code         last_seen  \n",
      "0             70435  07/04/2016 03:16  \n",
      "16            38871  01/04/2016 12:46  \n",
      "22            49716  31/03/2016 01:16  \n",
      "26            31139  16/03/2016 09:16  \n",
      "31            37075  29/03/2016 17:43  \n",
      "...             ...               ...  \n",
      "354346        61169  08/03/2016 21:28  \n",
      "354351        87700  12/03/2016 14:16  \n",
      "354361        51371  13/03/2016 01:44  \n",
      "354364         2694  21/03/2016 10:42  \n",
      "354365        39576  06/04/2016 00:46  \n",
      "\n",
      "[37484 rows x 16 columns]\n",
      "0\n",
      "CPU times: user 74 ms, sys: 5.38 ms, total: 79.3 ms\n",
      "Wall time: 77.5 ms\n"
     ]
    }
   ],
   "source": [
    "%%time\n",
    "print(car_data['vehicle_type'].isna().sum())\n",
    "print(car_data.query('vehicle_type.isna()'))\n",
    "car_data['vehicle_type'] = car_data['vehicle_type'].fillna('Unknown Type')\n",
    "print(car_data['vehicle_type'].isna().sum())\n"
   ]
  },
  {
   "cell_type": "code",
   "execution_count": 9,
   "metadata": {},
   "outputs": [
    {
     "name": "stdout",
     "output_type": "stream",
     "text": [
      "19701\n",
      "            date_crawled  price  vehicle_type  registration_year gear_box  \\\n",
      "1       24/03/2016 10:58  18300         coupe               2011   manual   \n",
      "59      29/03/2016 15:48      1           suv               1994   manual   \n",
      "81      03/04/2016 12:56    350         small               1997   manual   \n",
      "115     20/03/2016 18:53      0         small               1999      NaN   \n",
      "135     27/03/2016 20:51   1450         sedan               1992   manual   \n",
      "...                  ...    ...           ...                ...      ...   \n",
      "354245  07/03/2016 16:37    560         small               2001     auto   \n",
      "354321  15/03/2016 13:52   9400         wagon               2007   manual   \n",
      "354338  31/03/2016 19:52    180  Unknown Type               1995      NaN   \n",
      "354351  11/03/2016 23:40   1900  Unknown Type               2000   manual   \n",
      "354365  14/03/2016 17:48   2200  Unknown Type               2005      NaN   \n",
      "\n",
      "        power model  mileage  registration_month fuel_type           brand  \\\n",
      "1         190   NaN   125000                   5  gasoline            audi   \n",
      "59        286   NaN   150000                  11       NaN  sonstige_autos   \n",
      "81         54   NaN   150000                   3       NaN            fiat   \n",
      "115         0   NaN     5000                   0    petrol      volkswagen   \n",
      "135       136   NaN   150000                   0       NaN            audi   \n",
      "...       ...   ...      ...                 ...       ...             ...   \n",
      "354245    170   NaN    90000                   0    petrol            fiat   \n",
      "354321    200   NaN   150000                   4  gasoline  sonstige_autos   \n",
      "354338      0   NaN   125000                   3    petrol            opel   \n",
      "354351    110   NaN   150000                   7       NaN      volkswagen   \n",
      "354365      0   NaN    20000                   1       NaN  sonstige_autos   \n",
      "\n",
      "       not_repaired      date_created  number_of_pictures  postal_code  \\\n",
      "1               yes  24/03/2016 00:00                   0        66954   \n",
      "59              NaN  29/03/2016 00:00                   0        53721   \n",
      "81              yes  03/04/2016 00:00                   0        45665   \n",
      "115             NaN  20/03/2016 00:00                   0        37520   \n",
      "135              no  27/03/2016 00:00                   0        38709   \n",
      "...             ...               ...                 ...          ...   \n",
      "354245          yes  07/03/2016 00:00                   0        55743   \n",
      "354321          yes  15/03/2016 00:00                   0        91186   \n",
      "354338          NaN  31/03/2016 00:00                   0        41470   \n",
      "354351           no  11/03/2016 00:00                   0        87700   \n",
      "354365          NaN  14/03/2016 00:00                   0        39576   \n",
      "\n",
      "               last_seen  \n",
      "1       07/04/2016 01:46  \n",
      "59      06/04/2016 01:44  \n",
      "81      05/04/2016 11:47  \n",
      "115     07/04/2016 02:45  \n",
      "135     05/04/2016 20:17  \n",
      "...                  ...  \n",
      "354245  12/03/2016 21:45  \n",
      "354321  17/03/2016 08:16  \n",
      "354338  06/04/2016 14:18  \n",
      "354351  12/03/2016 14:16  \n",
      "354365  06/04/2016 00:46  \n",
      "\n",
      "[19701 rows x 16 columns]\n",
      "0\n",
      "CPU times: user 77 ms, sys: 4.89 ms, total: 81.9 ms\n",
      "Wall time: 80.6 ms\n"
     ]
    }
   ],
   "source": [
    "%%time\n",
    "print(car_data['model'].isna().sum())\n",
    "print(car_data.query('model.isna()'))\n",
    "car_data['model'] = car_data['model'].fillna('Unknown Model')\n",
    "print(car_data['model'].isna().sum())"
   ]
  },
  {
   "cell_type": "code",
   "execution_count": 10,
   "metadata": {},
   "outputs": [
    {
     "name": "stdout",
     "output_type": "stream",
     "text": [
      "32889\n",
      "            date_crawled  price  vehicle_type  registration_year gear_box  \\\n",
      "9       17/03/2016 10:53    999         small               1998   manual   \n",
      "13      21/03/2016 21:37   2500         wagon               2004   manual   \n",
      "26      10/03/2016 19:38   5555  Unknown Type               2017   manual   \n",
      "36      11/03/2016 11:50   1600         other               1991   manual   \n",
      "41      30/03/2016 20:38   7500         sedan               2002     auto   \n",
      "...                  ...    ...           ...                ...      ...   \n",
      "354339  20/03/2016 12:46   3850   convertible               2006   manual   \n",
      "354346  07/03/2016 17:06   2600  Unknown Type               2005     auto   \n",
      "354351  11/03/2016 23:40   1900  Unknown Type               2000   manual   \n",
      "354361  09/03/2016 13:37   5250  Unknown Type               2016     auto   \n",
      "354365  14/03/2016 17:48   2200  Unknown Type               2005      NaN   \n",
      "\n",
      "        power          model  mileage  registration_month fuel_type  \\\n",
      "9         101           golf   150000                   0       NaN   \n",
      "13        131         passat   150000                   2       NaN   \n",
      "26        125             c4   125000                   4       NaN   \n",
      "36         75         kadett    70000                   0       NaN   \n",
      "41        306       e_klasse   150000                   4       NaN   \n",
      "...       ...            ...      ...                 ...       ...   \n",
      "354339    108        2_reihe   125000                   2       NaN   \n",
      "354346      0       c_klasse   150000                   9       NaN   \n",
      "354351    110  Unknown Model   150000                   7       NaN   \n",
      "354361    150            159   150000                  12       NaN   \n",
      "354365      0  Unknown Model    20000                   1       NaN   \n",
      "\n",
      "                 brand not_repaired      date_created  number_of_pictures  \\\n",
      "9           volkswagen          NaN  17/03/2016 00:00                   0   \n",
      "13          volkswagen           no  21/03/2016 00:00                   0   \n",
      "26             citroen           no  10/03/2016 00:00                   0   \n",
      "36                opel          NaN  11/03/2016 00:00                   0   \n",
      "41       mercedes_benz          NaN  30/03/2016 00:00                   0   \n",
      "...                ...          ...               ...                 ...   \n",
      "354339         peugeot           no  20/03/2016 00:00                   0   \n",
      "354346   mercedes_benz          NaN  07/03/2016 00:00                   0   \n",
      "354351      volkswagen           no  11/03/2016 00:00                   0   \n",
      "354361      alfa_romeo           no  09/03/2016 00:00                   0   \n",
      "354365  sonstige_autos          NaN  14/03/2016 00:00                   0   \n",
      "\n",
      "        postal_code         last_seen  \n",
      "9             27472  31/03/2016 17:17  \n",
      "13            90762  23/03/2016 02:50  \n",
      "26            31139  16/03/2016 09:16  \n",
      "36             2943  07/04/2016 03:46  \n",
      "41            33649  03/04/2016 11:44  \n",
      "...             ...               ...  \n",
      "354339        53947  26/03/2016 21:18  \n",
      "354346        61169  08/03/2016 21:28  \n",
      "354351        87700  12/03/2016 14:16  \n",
      "354361        51371  13/03/2016 01:44  \n",
      "354365        39576  06/04/2016 00:46  \n",
      "\n",
      "[32889 rows x 16 columns]\n",
      "0\n",
      "CPU times: user 82.3 ms, sys: 5.44 ms, total: 87.7 ms\n",
      "Wall time: 86.2 ms\n"
     ]
    }
   ],
   "source": [
    "%%time\n",
    "print(car_data['fuel_type'].isna().sum())\n",
    "print(car_data.query('fuel_type.isna()'))\n",
    "car_data['fuel_type'] = car_data['fuel_type'].fillna('Unknown Fuel')\n",
    "print(car_data['fuel_type'].isna().sum())"
   ]
  },
  {
   "cell_type": "code",
   "execution_count": 11,
   "metadata": {},
   "outputs": [
    {
     "name": "stdout",
     "output_type": "stream",
     "text": [
      "71145\n",
      "            date_crawled  price  vehicle_type  registration_year gear_box  \\\n",
      "0       24/03/2016 11:52    480  Unknown Type               1993   manual   \n",
      "2       14/03/2016 12:52   9800           suv               2004     auto   \n",
      "8       04/04/2016 23:42  14500           bus               2014   manual   \n",
      "9       17/03/2016 10:53    999         small               1998   manual   \n",
      "12      15/03/2016 22:49    999         wagon               1995   manual   \n",
      "...                  ...    ...           ...                ...      ...   \n",
      "354349  16/03/2016 17:06   5999         wagon               2005   manual   \n",
      "354356  04/04/2016 11:45    999   convertible               2000   manual   \n",
      "354357  09/03/2016 11:36   1690         wagon               2004   manual   \n",
      "354365  14/03/2016 17:48   2200  Unknown Type               2005      NaN   \n",
      "354368  20/03/2016 19:41   3400         wagon               2002   manual   \n",
      "\n",
      "        power          model  mileage  registration_month     fuel_type  \\\n",
      "0           0           golf   150000                   0        petrol   \n",
      "2         163          grand   125000                   8      gasoline   \n",
      "8         125          c_max    30000                   8        petrol   \n",
      "9         101           golf   150000                   0  Unknown Fuel   \n",
      "12        115         passat   150000                  11        petrol   \n",
      "...       ...            ...      ...                 ...           ...   \n",
      "354349    140             a4   150000                   4      gasoline   \n",
      "354356     95         megane   150000                   4        petrol   \n",
      "354357     55          fabia   150000                   4        petrol   \n",
      "354365      0  Unknown Model    20000                   1  Unknown Fuel   \n",
      "354368    100           golf   150000                   6      gasoline   \n",
      "\n",
      "                 brand not_repaired      date_created  number_of_pictures  \\\n",
      "0           volkswagen          NaN  24/03/2016 00:00                   0   \n",
      "2                 jeep          NaN  14/03/2016 00:00                   0   \n",
      "8                 ford          NaN  04/04/2016 00:00                   0   \n",
      "9           volkswagen          NaN  17/03/2016 00:00                   0   \n",
      "12          volkswagen          NaN  15/03/2016 00:00                   0   \n",
      "...                ...          ...               ...                 ...   \n",
      "354349            audi          NaN  16/03/2016 00:00                   0   \n",
      "354356         renault          NaN  04/04/2016 00:00                   0   \n",
      "354357           skoda          NaN  09/03/2016 00:00                   0   \n",
      "354365  sonstige_autos          NaN  14/03/2016 00:00                   0   \n",
      "354368      volkswagen          NaN  20/03/2016 00:00                   0   \n",
      "\n",
      "        postal_code         last_seen  \n",
      "0             70435  07/04/2016 03:16  \n",
      "2             90480  05/04/2016 12:47  \n",
      "8             94505  04/04/2016 23:42  \n",
      "9             27472  31/03/2016 17:17  \n",
      "12            37269  01/04/2016 13:16  \n",
      "...             ...               ...  \n",
      "354349        56472  18/03/2016 11:30  \n",
      "354356        88477  06/04/2016 12:44  \n",
      "354357        18246  04/04/2016 08:15  \n",
      "354365        39576  06/04/2016 00:46  \n",
      "354368        40764  24/03/2016 12:45  \n",
      "\n",
      "[71145 rows x 16 columns]\n",
      "0\n",
      "CPU times: user 91.5 ms, sys: 8.26 ms, total: 99.7 ms\n",
      "Wall time: 97.8 ms\n"
     ]
    }
   ],
   "source": [
    "%%time\n",
    "print(car_data['not_repaired'].isna().sum())\n",
    "print(car_data.query('not_repaired.isna()'))\n",
    "car_data['not_repaired'] = car_data['not_repaired'].fillna('Unknown Repair Status')\n",
    "print(car_data['not_repaired'].isna().sum())"
   ]
  },
  {
   "cell_type": "code",
   "execution_count": 12,
   "metadata": {},
   "outputs": [
    {
     "name": "stdout",
     "output_type": "stream",
     "text": [
      "19830\n",
      "            date_crawled  price  vehicle_type  registration_year gear_box  \\\n",
      "15      11/03/2016 21:39    450         small               1910      NaN   \n",
      "16      01/04/2016 12:46    300  Unknown Type               2016      NaN   \n",
      "32      15/03/2016 20:59    245         sedan               1994      NaN   \n",
      "37      28/03/2016 17:50   1500  Unknown Type               2016      NaN   \n",
      "40      26/03/2016 22:06      0  Unknown Type               1990      NaN   \n",
      "...                  ...    ...           ...                ...      ...   \n",
      "354288  16/03/2016 13:36   3300         wagon               2006      NaN   \n",
      "354305  03/04/2016 13:46   3500  Unknown Type               1995      NaN   \n",
      "354329  30/03/2016 20:55    350         small               1996      NaN   \n",
      "354338  31/03/2016 19:52    180  Unknown Type               1995      NaN   \n",
      "354365  14/03/2016 17:48   2200  Unknown Type               2005      NaN   \n",
      "\n",
      "        power          model  mileage  registration_month     fuel_type  \\\n",
      "15          0             ka     5000                   0        petrol   \n",
      "16         60           polo   150000                   0        petrol   \n",
      "32          0           golf   150000                   2        petrol   \n",
      "37          0         kangoo   150000                   1      gasoline   \n",
      "40          0          corsa   150000                   1        petrol   \n",
      "...       ...            ...      ...                 ...           ...   \n",
      "354288      0         touran   150000                   7      gasoline   \n",
      "354305      0           polo   150000                   0  Unknown Fuel   \n",
      "354329     65          punto   150000                   0  Unknown Fuel   \n",
      "354338      0  Unknown Model   125000                   3        petrol   \n",
      "354365      0  Unknown Model    20000                   1  Unknown Fuel   \n",
      "\n",
      "                 brand           not_repaired      date_created  \\\n",
      "15                ford  Unknown Repair Status  11/03/2016 00:00   \n",
      "16          volkswagen  Unknown Repair Status  01/04/2016 00:00   \n",
      "32          volkswagen                     no  15/03/2016 00:00   \n",
      "37             renault                     no  28/03/2016 00:00   \n",
      "40                opel  Unknown Repair Status  26/03/2016 00:00   \n",
      "...                ...                    ...               ...   \n",
      "354288      volkswagen  Unknown Repair Status  16/03/2016 00:00   \n",
      "354305      volkswagen  Unknown Repair Status  03/04/2016 00:00   \n",
      "354329            fiat  Unknown Repair Status  30/03/2016 00:00   \n",
      "354338            opel  Unknown Repair Status  31/03/2016 00:00   \n",
      "354365  sonstige_autos  Unknown Repair Status  14/03/2016 00:00   \n",
      "\n",
      "        number_of_pictures  postal_code         last_seen  \n",
      "15                       0        24148  19/03/2016 08:46  \n",
      "16                       0        38871  01/04/2016 12:46  \n",
      "32                       0        44145  17/03/2016 18:17  \n",
      "37                       0        46483  30/03/2016 09:18  \n",
      "40                       0        56412  27/03/2016 17:43  \n",
      "...                    ...          ...               ...  \n",
      "354288                   0        12057  17/03/2016 12:17  \n",
      "354305                   0        74579  05/04/2016 12:44  \n",
      "354329                   0        25436  07/04/2016 13:50  \n",
      "354338                   0        41470  06/04/2016 14:18  \n",
      "354365                   0        39576  06/04/2016 00:46  \n",
      "\n",
      "[19830 rows x 16 columns]\n",
      "0\n",
      "CPU times: user 85.3 ms, sys: 7.68 ms, total: 93 ms\n",
      "Wall time: 102 ms\n"
     ]
    }
   ],
   "source": [
    "%%time\n",
    "print(car_data['gear_box'].isna().sum())\n",
    "print(car_data.query('gear_box.isna()'))\n",
    "car_data['gear_box'] = car_data['gear_box'].fillna('Unknown Gear Box')\n",
    "print(car_data['gear_box'].isna().sum())"
   ]
  },
  {
   "cell_type": "code",
   "execution_count": 13,
   "metadata": {},
   "outputs": [
    {
     "name": "stdout",
     "output_type": "stream",
     "text": [
      "<class 'pandas.core.frame.DataFrame'>\n",
      "Index: 354107 entries, 0 to 354368\n",
      "Data columns (total 16 columns):\n",
      " #   Column              Non-Null Count   Dtype \n",
      "---  ------              --------------   ----- \n",
      " 0   date_crawled        354107 non-null  object\n",
      " 1   price               354107 non-null  int64 \n",
      " 2   vehicle_type        354107 non-null  object\n",
      " 3   registration_year   354107 non-null  int64 \n",
      " 4   gear_box            354107 non-null  object\n",
      " 5   power               354107 non-null  int64 \n",
      " 6   model               354107 non-null  object\n",
      " 7   mileage             354107 non-null  int64 \n",
      " 8   registration_month  354107 non-null  int64 \n",
      " 9   fuel_type           354107 non-null  object\n",
      " 10  brand               354107 non-null  object\n",
      " 11  not_repaired        354107 non-null  object\n",
      " 12  date_created        354107 non-null  object\n",
      " 13  number_of_pictures  354107 non-null  int64 \n",
      " 14  postal_code         354107 non-null  int64 \n",
      " 15  last_seen           354107 non-null  object\n",
      "dtypes: int64(7), object(9)\n",
      "memory usage: 45.9+ MB\n",
      "CPU times: user 122 ms, sys: 4.69 ms, total: 126 ms\n",
      "Wall time: 128 ms\n"
     ]
    }
   ],
   "source": [
    "%%time\n",
    "car_data.info()"
   ]
  },
  {
   "cell_type": "markdown",
   "metadata": {},
   "source": [
    "<h2>EDA</h2>"
   ]
  },
  {
   "cell_type": "markdown",
   "metadata": {},
   "source": [
    "This code conducts brief EDA with pairplots of potentially related columns. I limited these columns in order to make the plots readable. However, as seen in the graphs, there seem to be no related values. Machine Learning is going to be a better way to evaluate this."
   ]
  },
  {
   "cell_type": "code",
   "execution_count": 14,
   "metadata": {},
   "outputs": [
    {
     "name": "stderr",
     "output_type": "stream",
     "text": [
      "/Users/admin/miniconda3/envs/rusty-bargain/lib/python3.11/site-packages/seaborn/axisgrid.py:118: UserWarning: The figure layout has changed to tight\n",
      "  self._figure.tight_layout(*args, **kwargs)\n"
     ]
    },
    {
     "name": "stdout",
     "output_type": "stream",
     "text": [
      "CPU times: user 38 s, sys: 1.91 s, total: 39.9 s\n",
      "Wall time: 42.3 s\n"
     ]
    },
    {
     "data": {
      "image/png": "[encoded data removed]",
      "text/plain": [
       "<Figure size 1200x1200 with 42 Axes>"
      ]
     },
     "metadata": {},
     "output_type": "display_data"
    }
   ],
   "source": [
    "%%time\n",
    "car_groups = sns.pairplot(car_data, vars= ['registration_year', 'price', 'registration_month', 'mileage', 'number_of_pictures', 'postal_code'], kind='hist')\n",
    "car_groups.fig.set_size_inches(12, 12)"
   ]
  },
  {
   "cell_type": "markdown",
   "metadata": {},
   "source": [
    "<h2>Training Machine Learning Models</h2>"
   ]
  },
  {
   "cell_type": "markdown",
   "metadata": {},
   "source": [
    "This commented code provides the option to delete different columns if runtimes are too long or the kernel dies. I was able to optimize the code in other ways, except for XGBoost which I was not able to get to run no matter what I deleted. If you are having issues, feel free to comment any of these in that you feel are necessary."
   ]
  },
  {
   "cell_type": "code",
   "execution_count": 15,
   "metadata": {},
   "outputs": [
    {
     "data": {
      "text/plain": [
       "\"%%time\\ndel(car_data['number_of_pictures'])\\ndel(car_data['last_seen'])\\ndel(car_data['gear_box'])\\ndel(car_data['registration_year'])\\ndel(car_data['registration_month'])\\ndel(car_data['not_repaired'])\\ndel(car_data['date_created'])\\ndel(car_data['model'])\\ndel(car_data['fuel_type'])\\ndel(car_data['power'])\""
      ]
     },
     "execution_count": 15,
     "metadata": {},
     "output_type": "execute_result"
    }
   ],
   "source": [
    "'''%%time\n",
    "del(car_data['number_of_pictures'])\n",
    "del(car_data['last_seen'])\n",
    "del(car_data['gear_box'])\n",
    "del(car_data['registration_year'])\n",
    "del(car_data['registration_month'])\n",
    "del(car_data['not_repaired'])\n",
    "del(car_data['date_created'])\n",
    "del(car_data['model'])\n",
    "del(car_data['fuel_type'])\n",
    "del(car_data['power'])'''\n",
    "\n",
    "\n"
   ]
  },
  {
   "cell_type": "markdown",
   "metadata": {},
   "source": [
    "This code creates a list of categorical features to use in future code"
   ]
  },
  {
   "cell_type": "code",
   "execution_count": 16,
   "metadata": {},
   "outputs": [
    {
     "name": "stdout",
     "output_type": "stream",
     "text": [
      "CPU times: user 3 µs, sys: 1 µs, total: 4 µs\n",
      "Wall time: 5.96 µs\n"
     ]
    }
   ],
   "source": [
    "%%time\n",
    "categorical_features = ['date_crawled', 'last_seen', 'gear_box', 'not_repaired', 'date_created', 'model', 'fuel_type', 'vehicle_type', 'brand']"
   ]
  },
  {
   "cell_type": "markdown",
   "metadata": {},
   "source": [
    "This commented code uses OHE to create encoded categorical features. This is for XGBoost."
   ]
  },
  {
   "cell_type": "code",
   "execution_count": 17,
   "metadata": {},
   "outputs": [
    {
     "data": {
      "text/plain": [
       "'%%time\\ncar_data_encoded = pd.get_dummies(car_data, columns=categorical_features)'"
      ]
     },
     "execution_count": 17,
     "metadata": {},
     "output_type": "execute_result"
    }
   ],
   "source": [
    "'''%%time\n",
    "car_data_encoded = pd.get_dummies(car_data, columns=categorical_features)'''"
   ]
  },
  {
   "cell_type": "markdown",
   "metadata": {},
   "source": [
    "This code creates label-encoded categorical values for all models except XGBoost"
   ]
  },
  {
   "cell_type": "code",
   "execution_count": 18,
   "metadata": {},
   "outputs": [
    {
     "name": "stdout",
     "output_type": "stream",
     "text": [
      "CPU times: user 600 ms, sys: 23.6 ms, total: 624 ms\n",
      "Wall time: 633 ms\n"
     ]
    }
   ],
   "source": [
    "%%time\n",
    "label_encoders = {}\n",
    "for col in categorical_features:\n",
    "    le = LabelEncoder()\n",
    "    car_data[col] = le.fit_transform(car_data[col])\n",
    "    label_encoders[col] = le\n",
    "\n"
   ]
  },
  {
   "cell_type": "markdown",
   "metadata": {},
   "source": [
    "This code splits the data into train and test sets, then calls info() to ensure it was done correctly. The commented code does the same for the OHE-encoded dataset."
   ]
  },
  {
   "cell_type": "code",
   "execution_count": 19,
   "metadata": {},
   "outputs": [
    {
     "name": "stdout",
     "output_type": "stream",
     "text": [
      "CPU times: user 148 ms, sys: 32.4 ms, total: 180 ms\n",
      "Wall time: 179 ms\n"
     ]
    }
   ],
   "source": [
    "%%time\n",
    "X = car_data.drop('price', axis=1)\n",
    "y = car_data.price\n",
    "\n",
    "X_train1, X_test, y_train1, y_test = train_test_split (X, y, test_size=0.20, random_state=54321)\n",
    "X_train, X_valid, y_train, y_valid = train_test_split(X_train1, y_train1, test_size=0.25, random_state=54321)\n",
    "\n",
    "\n"
   ]
  },
  {
   "cell_type": "code",
   "execution_count": 20,
   "metadata": {},
   "outputs": [
    {
     "name": "stdout",
     "output_type": "stream",
     "text": [
      "<class 'pandas.core.frame.DataFrame'>\n",
      "Index: 212463 entries, 161250 to 344330\n",
      "Data columns (total 15 columns):\n",
      " #   Column              Non-Null Count   Dtype\n",
      "---  ------              --------------   -----\n",
      " 0   date_crawled        212463 non-null  int64\n",
      " 1   vehicle_type        212463 non-null  int64\n",
      " 2   registration_year   212463 non-null  int64\n",
      " 3   gear_box            212463 non-null  int64\n",
      " 4   power               212463 non-null  int64\n",
      " 5   model               212463 non-null  int64\n",
      " 6   mileage             212463 non-null  int64\n",
      " 7   registration_month  212463 non-null  int64\n",
      " 8   fuel_type           212463 non-null  int64\n",
      " 9   brand               212463 non-null  int64\n",
      " 10  not_repaired        212463 non-null  int64\n",
      " 11  date_created        212463 non-null  int64\n",
      " 12  number_of_pictures  212463 non-null  int64\n",
      " 13  postal_code         212463 non-null  int64\n",
      " 14  last_seen           212463 non-null  int64\n",
      "dtypes: int64(15)\n",
      "memory usage: 25.9 MB\n",
      "<class 'pandas.core.frame.DataFrame'>\n",
      "Index: 70822 entries, 162784 to 237301\n",
      "Data columns (total 15 columns):\n",
      " #   Column              Non-Null Count  Dtype\n",
      "---  ------              --------------  -----\n",
      " 0   date_crawled        70822 non-null  int64\n",
      " 1   vehicle_type        70822 non-null  int64\n",
      " 2   registration_year   70822 non-null  int64\n",
      " 3   gear_box            70822 non-null  int64\n",
      " 4   power               70822 non-null  int64\n",
      " 5   model               70822 non-null  int64\n",
      " 6   mileage             70822 non-null  int64\n",
      " 7   registration_month  70822 non-null  int64\n",
      " 8   fuel_type           70822 non-null  int64\n",
      " 9   brand               70822 non-null  int64\n",
      " 10  not_repaired        70822 non-null  int64\n",
      " 11  date_created        70822 non-null  int64\n",
      " 12  number_of_pictures  70822 non-null  int64\n",
      " 13  postal_code         70822 non-null  int64\n",
      " 14  last_seen           70822 non-null  int64\n",
      "dtypes: int64(15)\n",
      "memory usage: 8.6 MB\n",
      "<class 'pandas.core.frame.DataFrame'>\n",
      "Index: 70822 entries, 122335 to 72870\n",
      "Data columns (total 15 columns):\n",
      " #   Column              Non-Null Count  Dtype\n",
      "---  ------              --------------  -----\n",
      " 0   date_crawled        70822 non-null  int64\n",
      " 1   vehicle_type        70822 non-null  int64\n",
      " 2   registration_year   70822 non-null  int64\n",
      " 3   gear_box            70822 non-null  int64\n",
      " 4   power               70822 non-null  int64\n",
      " 5   model               70822 non-null  int64\n",
      " 6   mileage             70822 non-null  int64\n",
      " 7   registration_month  70822 non-null  int64\n",
      " 8   fuel_type           70822 non-null  int64\n",
      " 9   brand               70822 non-null  int64\n",
      " 10  not_repaired        70822 non-null  int64\n",
      " 11  date_created        70822 non-null  int64\n",
      " 12  number_of_pictures  70822 non-null  int64\n",
      " 13  postal_code         70822 non-null  int64\n",
      " 14  last_seen           70822 non-null  int64\n",
      "dtypes: int64(15)\n",
      "memory usage: 8.6 MB\n",
      "CPU times: user 34.5 ms, sys: 5.9 ms, total: 40.4 ms\n",
      "Wall time: 39 ms\n"
     ]
    },
    {
     "data": {
      "text/plain": [
       "count    70822.000000\n",
       "mean      4437.110149\n",
       "std       4530.822350\n",
       "min          0.000000\n",
       "25%       1050.000000\n",
       "50%       2750.000000\n",
       "75%       6450.000000\n",
       "max      20000.000000\n",
       "Name: price, dtype: float64"
      ]
     },
     "execution_count": 20,
     "metadata": {},
     "output_type": "execute_result"
    }
   ],
   "source": [
    "%%time\n",
    "X_train.info()\n",
    "X_test.info()\n",
    "X_valid.info()\n",
    "\n",
    "y_train.describe()\n",
    "y_test.describe()\n",
    "y_valid.describe()"
   ]
  },
  {
   "cell_type": "code",
   "execution_count": 21,
   "metadata": {},
   "outputs": [
    {
     "data": {
      "text/plain": [
       "\"%%time\\nX_encoded = car_data_encoded.drop('price', axis=1)\\ny_encoded = car_data_encoded.price\\nX_encoded_train, X_encoded_test, y_encoded_train, y_encoded_test = train_test_split(X_encoded, y_encoded, test_size=0.25, random_state=54321)\""
      ]
     },
     "execution_count": 21,
     "metadata": {},
     "output_type": "execute_result"
    }
   ],
   "source": [
    "'''%%time\n",
    "X_encoded = car_data_encoded.drop('price', axis=1)\n",
    "y_encoded = car_data_encoded.price\n",
    "X_encoded_train, X_encoded_test, y_encoded_train, y_encoded_test = train_test_split(X_encoded, y_encoded, test_size=0.25, random_state=54321)'''"
   ]
  },
  {
   "cell_type": "markdown",
   "metadata": {},
   "source": [
    "This code scales the numeric values for all models"
   ]
  },
  {
   "cell_type": "code",
   "execution_count": 22,
   "metadata": {},
   "outputs": [
    {
     "name": "stdout",
     "output_type": "stream",
     "text": [
      "CPU times: user 3 µs, sys: 1 µs, total: 4 µs\n",
      "Wall time: 6.2 µs\n"
     ]
    }
   ],
   "source": [
    "%%time\n",
    "numeric = ['mileage', 'postal_code', 'registration_year', 'registration_month', 'number_of_pictures', 'power']\n"
   ]
  },
  {
   "cell_type": "code",
   "execution_count": 23,
   "metadata": {},
   "outputs": [
    {
     "name": "stdout",
     "output_type": "stream",
     "text": [
      "CPU times: user 3 µs, sys: 1 µs, total: 4 µs\n",
      "Wall time: 5.96 µs\n"
     ]
    }
   ],
   "source": [
    "%%time\n",
    "def scaling(features_train, features_test, features_valid):\n",
    "    scaler = StandardScaler()\n",
    "    scaler.fit(features_train[numeric])\n",
    "    features_train[numeric] = scaler.transform(features_train[numeric])\n",
    "    features_test[numeric] = scaler.transform(features_test[numeric])\n",
    "    features_valid[numeric] = scaler.transform(features_valid[numeric])\n",
    "    #display(features_train.sample(10))\n",
    "    #display(features_test.sample(10))\n",
    "    return features_train, features_test, features_valid"
   ]
  },
  {
   "cell_type": "code",
   "execution_count": 24,
   "metadata": {},
   "outputs": [
    {
     "name": "stdout",
     "output_type": "stream",
     "text": [
      "CPU times: user 43 ms, sys: 21.3 ms, total: 64.2 ms\n",
      "Wall time: 63.3 ms\n"
     ]
    },
    {
     "data": {
      "text/plain": [
       "(        date_crawled  vehicle_type  registration_year  gear_box     power  \\\n",
       " 161250          3828             3          -0.095491         2  0.074692   \n",
       " 104081          4557             5           0.102893         2 -0.253906   \n",
       " 175711          7983             5          -0.060482         2 -0.046636   \n",
       " 327479          4089             1           0.056214         0 -0.557226   \n",
       " 194399          4309             7          -0.048812         1  0.418456   \n",
       " ...              ...           ...                ...       ...       ...   \n",
       " 210893          7794             8          -0.013803         2 -0.046636   \n",
       " 349509          4375             3           0.067884         2  0.372958   \n",
       " 306807          1255             7          -0.048812         2  0.029194   \n",
       " 96172           6059             6          -0.095491         2 -0.557226   \n",
       " 344330         13910             6          -0.002134         2 -0.284238   \n",
       " \n",
       "         model   mileage  registration_month  fuel_type  brand  not_repaired  \\\n",
       " 161250     74 -1.001686           -1.530743          0     11             1   \n",
       " 104081    229 -1.527306            1.149939          7     38             1   \n",
       " 175711    117  0.575174            0.881871          7     38             1   \n",
       " 327479    113  0.575174            0.881871          0     10             0   \n",
       " 194399    167  0.575174            0.881871          7      3             1   \n",
       " ...       ...       ...                 ...        ...    ...           ...   \n",
       " 210893     43  0.575174           -0.994607          7     24             1   \n",
       " 349509     11 -1.264496            0.345735          3      2             1   \n",
       " 306807    167 -1.527306           -1.262675          3     24             1   \n",
       " 96172      84  0.575174           -1.530743          7     24             1   \n",
       " 344330    174 -0.738876            1.686076          7     38             1   \n",
       " \n",
       "         date_created  number_of_pictures  postal_code  last_seen  \n",
       " 161250            32                 0.0     1.016979      17830  \n",
       " 104081            35                 0.0    -0.512298       8463  \n",
       " 175711            58                 0.0    -0.745334       4386  \n",
       " 327479            32                 0.0     0.595591       3249  \n",
       " 194399            35                 0.0     0.334356       7283  \n",
       " ...              ...                 ...          ...        ...  \n",
       " 210893            58                 0.0     0.547494       3732  \n",
       " 349509            35                 0.0     1.065735       5283  \n",
       " 306807            11                 0.0     0.892509       3164  \n",
       " 96172             46                 0.0    -0.185862       8001  \n",
       " 344330           100                 0.0    -0.989579      17648  \n",
       " \n",
       " [212463 rows x 15 columns],\n",
       "         date_crawled  vehicle_type  registration_year  gear_box     power  \\\n",
       " 162784          2356             6          -0.095491         2 -0.329736   \n",
       " 313788         15073             5          -0.002134         2  0.201076   \n",
       " 97061           4199             6           0.056214         2 -0.208407   \n",
       " 334470         14449             3          -0.083821         2  0.150522   \n",
       " 279177          5522             8          -0.025473         2 -0.557226   \n",
       " ...              ...           ...                ...       ...       ...   \n",
       " 130897          7336             2          -0.013803         2  0.438677   \n",
       " 90047           3346             0          -0.048812         2  0.130301   \n",
       " 128289          6018             1          -0.282205         2 -0.112356   \n",
       " 199342         10910             6           0.091223         2 -0.253906   \n",
       " 237301          6483             5          -0.025473         2  0.165688   \n",
       " \n",
       "         model   mileage  registration_month  fuel_type  brand  not_repaired  \\\n",
       " 162784     26 -3.235572           -1.530743          7     24             0   \n",
       " 313788    216 -0.081851            1.418008          7     31             1   \n",
       " 97061     129  0.575174           -0.726539          7     10             1   \n",
       " 334470     11  0.575174            0.077666          7      2             1   \n",
       " 279177    155  0.575174           -1.530743          7     10             1   \n",
       " ...       ...       ...                 ...        ...    ...           ...   \n",
       " 130897    209 -1.264496           -0.458470          7     20             1   \n",
       " 90047     112  0.575174           -1.530743          7     22             0   \n",
       " 128289    167  0.575174           -0.994607          7     20             1   \n",
       " 199342    174 -2.578547           -0.726539          7     38             1   \n",
       " 237301     11  0.575174           -0.994607          7      2             1   \n",
       " \n",
       "         date_created  number_of_pictures  postal_code  last_seen  \n",
       " 162784            18                 0.0    -0.037422       4457  \n",
       " 313788           108                 0.0     1.910721       3675  \n",
       " 97061             35                 0.0    -0.894162       5392  \n",
       " 334470           103                 0.0     0.737437       3756  \n",
       " 279177            44                 0.0    -0.237721       8133  \n",
       " ...              ...                 ...          ...        ...  \n",
       " 130897            55                 0.0     1.225578       3666  \n",
       " 90047             27                 0.0    -0.501050       4362  \n",
       " 128289            46                 0.0    -0.110498       4458  \n",
       " 199342            79                 0.0    -0.124035       3770  \n",
       " 237301            50                 0.0     1.833883       9852  \n",
       " \n",
       " [70822 rows x 15 columns],\n",
       "         date_crawled  vehicle_type  registration_year  gear_box     power  \\\n",
       " 122335          7032             7           0.091223         2  0.029194   \n",
       " 266689         10333             1          -0.048812         2 -0.112356   \n",
       " 336722          7502             6          -0.013803         2 -0.041581   \n",
       " 131171          9997             5           0.021206         2 -0.152799   \n",
       " 178356          3966             5          -0.060482         2  0.059526   \n",
       " ...              ...           ...                ...       ...       ...   \n",
       " 315431          1134             5          -0.083821         2 -0.557226   \n",
       " 177312          6530             7           0.067884         2  0.150522   \n",
       " 297623          7458             5          -0.025473         2  0.271851   \n",
       " 61042          10363             5          -0.177178         2 -0.557226   \n",
       " 72870           1459             6          -0.013803         2 -0.178075   \n",
       " \n",
       "         model   mileage  registration_month  fuel_type  brand  not_repaired  \\\n",
       " 122335    120 -1.790117            0.345735          3     12             1   \n",
       " 266689    225  0.575174            1.686076          3     38             1   \n",
       " 336722     29  0.575174           -0.726539          0      1             0   \n",
       " 131171    117 -1.001686            1.418008          7     38             1   \n",
       " 178356     60  0.575174            1.149939          5     20             0   \n",
       " ...       ...       ...                 ...        ...    ...           ...   \n",
       " 315431    171  0.575174           -0.190402          0     38             1   \n",
       " 177312    220 -0.738876            1.149939          3     38             1   \n",
       " 297623     15  0.575174            1.418008          3      2             0   \n",
       " 61042      16 -2.315737           -0.726539          7     37             1   \n",
       " 72870      76 -0.738876            1.149939          7     27             0   \n",
       " \n",
       "         date_created  number_of_pictures  postal_code  last_seen  \n",
       " 122335            52                 0.0     0.824010       8691  \n",
       " 266689            76                 0.0     0.547029      18550  \n",
       " 336722            55                 0.0    -1.286420       8803  \n",
       " 131171            74                 0.0     0.074286      16059  \n",
       " 178356            32                 0.0     0.789296       5795  \n",
       " ...              ...                 ...          ...        ...  \n",
       " 315431            11                 0.0     1.321732       4465  \n",
       " 177312            50                 0.0    -1.291269      16459  \n",
       " 297623            55                 0.0    -0.787302      13019  \n",
       " 61042             76                 0.0     1.442013       3857  \n",
       " 72870             11                 0.0    -0.456405       3272  \n",
       " \n",
       " [70822 rows x 15 columns])"
      ]
     },
     "execution_count": 24,
     "metadata": {},
     "output_type": "execute_result"
    }
   ],
   "source": [
    "%%time\n",
    "scaling(X_train, X_test, X_valid)"
   ]
  },
  {
   "cell_type": "code",
   "execution_count": 25,
   "metadata": {},
   "outputs": [
    {
     "data": {
      "text/plain": [
       "'%%time\\nscaling(X_encoded_train, X_encoded_test)'"
      ]
     },
     "execution_count": 25,
     "metadata": {},
     "output_type": "execute_result"
    }
   ],
   "source": [
    "'''%%time\n",
    "scaling(X_encoded_train, X_encoded_test)'''"
   ]
  },
  {
   "cell_type": "markdown",
   "metadata": {},
   "source": [
    "This function was created to calculate RMSE."
   ]
  },
  {
   "cell_type": "code",
   "execution_count": 26,
   "metadata": {},
   "outputs": [
    {
     "name": "stdout",
     "output_type": "stream",
     "text": [
      "CPU times: user 3 µs, sys: 0 ns, total: 3 µs\n",
      "Wall time: 5.96 µs\n"
     ]
    }
   ],
   "source": [
    "%%time\n",
    "def rmse(y_true, y_pred):\n",
    "    return(mean_squared_error(y_true, y_pred, squared=False))"
   ]
  },
  {
   "cell_type": "markdown",
   "metadata": {},
   "source": [
    "This dummy function was written to compare to the other models and ensure they were calculating similar values."
   ]
  },
  {
   "cell_type": "code",
   "execution_count": 27,
   "metadata": {},
   "outputs": [
    {
     "name": "stdout",
     "output_type": "stream",
     "text": [
      "CPU times: user 3 µs, sys: 1 µs, total: 4 µs\n",
      "Wall time: 5.96 µs\n"
     ]
    }
   ],
   "source": [
    "%%time\n",
    "def dummy(features_train, target_train, features_valid, target_valid):\n",
    "    dummy_regress = DummyRegressor(strategy='mean')\n",
    "    dummy_regress.fit(features_train, target_train)\n",
    "    predict_score = dummy_regress.predict(features_valid)\n",
    "    dummy_score = rmse(predict_score, target_valid)\n",
    "    print(dummy_score)\n",
    "    return"
   ]
  },
  {
   "cell_type": "code",
   "execution_count": 28,
   "metadata": {},
   "outputs": [
    {
     "name": "stdout",
     "output_type": "stream",
     "text": [
      "4530.866099714488\n",
      "CPU times: user 2.17 ms, sys: 1.47 ms, total: 3.63 ms\n",
      "Wall time: 2.76 ms\n"
     ]
    }
   ],
   "source": [
    "%%time\n",
    "dummy(X_train, y_train, X_valid, y_valid)"
   ]
  },
  {
   "cell_type": "code",
   "execution_count": 29,
   "metadata": {},
   "outputs": [
    {
     "data": {
      "text/plain": [
       "'%%time\\ndummy(X_encoded_train, y_encoded_train, X_encoded_test, y_encoded_test)'"
      ]
     },
     "execution_count": 29,
     "metadata": {},
     "output_type": "execute_result"
    }
   ],
   "source": [
    "'''%%time\n",
    "dummy(X_encoded_train, y_encoded_train, X_encoded_test, y_encoded_test)'''"
   ]
  },
  {
   "cell_type": "markdown",
   "metadata": {},
   "source": [
    "These functions are for the decision tree, random forest, and linear models. Of the three, the random forest seems have the best RMSE scores, but works quite slowly. For the random forest model, I kept the hyperparameters at lower numbers to optimize the runtime. I did note that as I increased the number of estimators, the RMSE consistently got smaller, but the runtime consistently increased."
   ]
  },
  {
   "cell_type": "code",
   "execution_count": 30,
   "metadata": {},
   "outputs": [
    {
     "name": "stdout",
     "output_type": "stream",
     "text": [
      "CPU times: user 4 µs, sys: 1 µs, total: 5 µs\n",
      "Wall time: 7.15 µs\n"
     ]
    }
   ],
   "source": [
    "%%time\n",
    "def train_decision_model(features_train, target_train, features_valid, target_valid, a, b):\n",
    "\n",
    "    best_decision_rmse = 0\n",
    "    best_depth = 0\n",
    "\n",
    "    for depth in range(a,b):\n",
    "        decision_model = DecisionTreeRegressor(random_state=54321, max_depth=depth)\n",
    "        decision_model.fit(features_train, target_train)\n",
    "        predictions = decision_model.predict(features_valid)\n",
    "        decision_score = rmse(target_valid, predictions)\n",
    "        print('The RMSE for', depth, 'is', decision_score) \n",
    "          \n",
    "        if best_decision_rmse == 0:\n",
    "            best_decision_rmse = decision_score\n",
    "            best_depth = depth\n",
    "        if decision_score < best_decision_rmse:\n",
    "            best_decision_rmse = decision_score\n",
    "            best_depth = depth\n",
    "                            \n",
    "    final_decision_model = DecisionTreeRegressor(random_state=54321, max_depth=best_depth)\n",
    "    final_decision_model.fit(features_train, target_train)\n",
    "    final_predictions = final_decision_model.predict(features_valid)\n",
    "    final_decision_score = rmse(target_valid, final_predictions)\n",
    "    print('The final RMSE for', best_depth, 'is', final_decision_score) \n",
    "    \n",
    "    return final_decision_score\n"
   ]
  },
  {
   "cell_type": "code",
   "execution_count": 31,
   "metadata": {},
   "outputs": [
    {
     "name": "stdout",
     "output_type": "stream",
     "text": [
      "CPU times: user 4 µs, sys: 0 ns, total: 4 µs\n",
      "Wall time: 6.91 µs\n"
     ]
    }
   ],
   "source": [
    "%%time\n",
    "def train_random_model(features_train, target_train, features_valid, target_valid, a, b):\n",
    "\n",
    "    best_random_rmse = 0\n",
    "    best_est = 0\n",
    "\n",
    "    for est in range(a,b):\n",
    "        random_model = RandomForestRegressor(random_state=54321, n_estimators=est)\n",
    "        random_model.fit(features_train, target_train)\n",
    "        predictions = random_model.predict(features_valid)\n",
    "        random_score = rmse(target_valid, predictions)\n",
    "        print('The RMSE for', est, 'is', random_score) \n",
    "  \n",
    "        if best_random_rmse == 0:\n",
    "            best_random_rmse = random_score\n",
    "            best_est = est\n",
    "        if random_score < best_random_rmse:\n",
    "            best_random_rmse = random_score\n",
    "            best_est = est\n",
    "            \n",
    "\n",
    "    final_random_model = RandomForestRegressor(random_state=54321, n_estimators=best_est)\n",
    "    final_random_model.fit(features_train, target_train)\n",
    "    final_predictions = final_random_model.predict(features_valid)\n",
    "    final_random_score = rmse(target_valid, final_predictions)\n",
    "    print('The final RMSE for', best_est, 'is', final_random_score) \n",
    "    print(final_random_score)\n",
    "\n",
    "    return final_random_score"
   ]
  },
  {
   "cell_type": "code",
   "execution_count": 32,
   "metadata": {},
   "outputs": [
    {
     "name": "stdout",
     "output_type": "stream",
     "text": [
      "CPU times: user 3 µs, sys: 0 ns, total: 3 µs\n",
      "Wall time: 6.91 µs\n"
     ]
    }
   ],
   "source": [
    "%%time\n",
    "def train_linear_model(features_train, target_train, features_valid, target_valid):\n",
    "    linear_model = LinearRegression()\n",
    "    linear_model.fit(features_train, target_train)\n",
    "    predictions = linear_model.predict(features_valid)\n",
    "    linear_score = rmse(target_valid, predictions)\n",
    "    print('The RMSE for the linear model is', linear_score) \n",
    "    return linear_score"
   ]
  },
  {
   "cell_type": "code",
   "execution_count": 33,
   "metadata": {},
   "outputs": [
    {
     "name": "stdout",
     "output_type": "stream",
     "text": [
      "The RMSE for 10 is 2147.3959389556335\n",
      "The RMSE for 11 is 2118.729869643583\n",
      "The RMSE for 12 is 2120.1342714049215\n",
      "The RMSE for 13 is 2122.591415627301\n",
      "The RMSE for 14 is 2147.0385009984825\n",
      "The RMSE for 15 is 2180.659961876627\n",
      "The RMSE for 16 is 2215.3662306133397\n",
      "The RMSE for 17 is 2274.935347487996\n",
      "The RMSE for 18 is 2322.70214431056\n",
      "The RMSE for 19 is 2351.0490117231984\n",
      "The RMSE for 20 is 2384.333231813212\n",
      "The final RMSE for 11 is 2118.729869643583\n",
      "CPU times: user 14.8 s, sys: 129 ms, total: 14.9 s\n",
      "Wall time: 15 s\n"
     ]
    }
   ],
   "source": [
    "%%time\n",
    "car_decision_RMSE = train_decision_model(X_train, y_train, X_valid, y_valid, 10, 21)\n"
   ]
  },
  {
   "cell_type": "code",
   "execution_count": 34,
   "metadata": {},
   "outputs": [
    {
     "name": "stdout",
     "output_type": "stream",
     "text": [
      "The RMSE for 20 is 1808.270946811541\n",
      "The RMSE for 21 is 1805.139936854524\n",
      "The RMSE for 22 is 1803.5057589806095\n",
      "The RMSE for 23 is 1801.5374225317594\n",
      "The RMSE for 24 is 1800.2893264360418\n",
      "The RMSE for 25 is 1798.1955500763395\n",
      "The RMSE for 26 is 1795.1738086909206\n",
      "The RMSE for 27 is 1793.1238909436665\n",
      "The RMSE for 28 is 1792.542667195189\n",
      "The RMSE for 29 is 1790.715325220782\n",
      "The RMSE for 30 is 1788.0863681326155\n",
      "The final RMSE for 30 is 1788.0863681326155\n",
      "1788.0863681326155\n",
      "CPU times: user 6min 50s, sys: 3.92 s, total: 6min 54s\n",
      "Wall time: 6min 55s\n"
     ]
    }
   ],
   "source": [
    "%%time\n",
    "car_random_RMSE = train_random_model(X_train, y_train, X_valid, y_valid, 20, 31)\n"
   ]
  },
  {
   "cell_type": "code",
   "execution_count": 35,
   "metadata": {},
   "outputs": [
    {
     "name": "stdout",
     "output_type": "stream",
     "text": [
      "The RMSE for the linear model is 4039.9077554742375\n",
      "CPU times: user 467 ms, sys: 53.1 ms, total: 520 ms\n",
      "Wall time: 191 ms\n"
     ]
    }
   ],
   "source": [
    "%%time\n",
    "car_linear_RMSE = train_linear_model(X_train, y_train, X_valid, y_valid)\n"
   ]
  },
  {
   "cell_type": "markdown",
   "metadata": {},
   "source": [
    "The LightGBM function is used here, and uses n_estimators for hyperparameter tuning. It does indeed perform much bettor than linear regression. I kept the n_estimators at lower numbers to optimize the runtime. I did note that as I increased the number of estimators, the RMSE consistently got smaller, but the runtime consistently increased."
   ]
  },
  {
   "cell_type": "code",
   "execution_count": 36,
   "metadata": {},
   "outputs": [
    {
     "name": "stdout",
     "output_type": "stream",
     "text": [
      "CPU times: user 21 µs, sys: 2 µs, total: 23 µs\n",
      "Wall time: 8.11 µs\n"
     ]
    }
   ],
   "source": [
    "%%time\n",
    "def lgbm(features_train, target_train, features_valid, target_valid, a, b):\n",
    "\n",
    "    best_lgbm_rmse = 0\n",
    "    best_est = 0\n",
    "\n",
    "    for est in range(a,b):\n",
    "        lgbm_model = LGBMRegressor(num_leaves=5, n_estimators=est, random_state=54321)\n",
    "        lgbm_model.fit(features_train, target_train)\n",
    "        predictions = lgbm_model.predict(features_valid)\n",
    "        lgbm_score = rmse(target_valid, predictions)\n",
    "        print('The RMSE for', est, 'is', lgbm_score) \n",
    "  \n",
    "        if best_lgbm_rmse == 0:\n",
    "            best_lgbm_rmse = lgbm_score\n",
    "            best_est = est\n",
    "        if lgbm_score < best_lgbm_rmse:\n",
    "            best_lgbm_rmse = lgbm_score\n",
    "            best_est = est\n",
    "            \n",
    "\n",
    "    final_lgbm_model = LGBMRegressor(num_leaves=5, max_depth=10, n_estimators=best_est, random_state=54321)\n",
    "    final_lgbm_model.fit(features_train, target_train)\n",
    "    final_predictions = final_lgbm_model.predict(features_valid)\n",
    "    final_lgbm_score = rmse(target_valid, final_predictions)\n",
    "    print('The final RMSE for', best_est, 'is', final_lgbm_score) \n",
    "    return final_lgbm_score"
   ]
  },
  {
   "cell_type": "code",
   "execution_count": 37,
   "metadata": {},
   "outputs": [
    {
     "name": "stdout",
     "output_type": "stream",
     "text": [
      "The RMSE for 20 is 2637.0620724776204\n",
      "The RMSE for 21 is 2606.056799710451\n",
      "The RMSE for 22 is 2579.0948202729437\n",
      "The RMSE for 23 is 2556.9211742734333\n",
      "The RMSE for 24 is 2536.8093384706267\n",
      "The RMSE for 25 is 2514.0020853017822\n",
      "The RMSE for 26 is 2496.410620133048\n",
      "The RMSE for 27 is 2479.550554549371\n",
      "The RMSE for 28 is 2467.083048261596\n",
      "The RMSE for 29 is 2452.4686041183422\n",
      "The RMSE for 30 is 2439.729012037003\n",
      "The final RMSE for 30 is 2439.729012037003\n",
      "CPU times: user 38.6 s, sys: 2.3 s, total: 40.9 s\n",
      "Wall time: 3.65 s\n"
     ]
    },
    {
     "data": {
      "text/plain": [
       "2439.729012037003"
      ]
     },
     "execution_count": 37,
     "metadata": {},
     "output_type": "execute_result"
    }
   ],
   "source": [
    "%%time\n",
    "lgbm(X_train, y_train, X_valid, y_valid, 20, 31)"
   ]
  },
  {
   "cell_type": "markdown",
   "metadata": {},
   "source": [
    "CatBoost also performs better than linear regression, and also LightGBM, using iterations for hyperparameter tuning. I kept the iterations at lower numbers to optimize the runtime. I did note that as I increased the number of iterations, the RMSE consistently got smaller, but the runtime consistently increased."
   ]
  },
  {
   "cell_type": "code",
   "execution_count": 38,
   "metadata": {},
   "outputs": [
    {
     "name": "stdout",
     "output_type": "stream",
     "text": [
      "CPU times: user 44 µs, sys: 10 µs, total: 54 µs\n",
      "Wall time: 9.06 µs\n"
     ]
    }
   ],
   "source": [
    "%%time\n",
    "def cat(features_train, target_train, features_valid, target_valid, a, b):\n",
    "\n",
    "    best_cat_rmse = 0\n",
    "    best_its = 0\n",
    "\n",
    "    for its in range(a,b):\n",
    "        cat_model = CatBoostRegressor(loss_function=\"RMSE\", iterations=its, random_seed=54321)\n",
    "        cat_model.fit(features_train, target_train, cat_features=categorical_features, verbose=10)\n",
    "\n",
    "        cat_predictions = cat_model.predict(features_valid)\n",
    "        cat_rmse = rmse(target_valid, cat_predictions)\n",
    "        print('The RMSE for', its, 'is', cat_rmse) \n",
    "  \n",
    "        if best_cat_rmse == 0:\n",
    "            best_cat_rmse = cat_rmse\n",
    "            best_its = its\n",
    "        if cat_rmse < best_cat_rmse:\n",
    "            best_cat_rmse = cat_rmse\n",
    "            best_its = its\n",
    "            \n",
    "\n",
    "    final_cat_model = CatBoostRegressor(loss_function='RMSE', iterations=best_its, random_seed=54321)\n",
    "    final_cat_model.fit(features_train, target_train, cat_features=categorical_features, verbose=10)\n",
    "    final_cat_predictions = final_cat_model.predict(features_valid)\n",
    "    final_cat_score = rmse(target_valid, final_cat_predictions)\n",
    "    print('The final RMSE for', best_its, 'is', final_cat_score) \n",
    "    return final_cat_score"
   ]
  },
  {
   "cell_type": "code",
   "execution_count": 39,
   "metadata": {},
   "outputs": [
    {
     "name": "stdout",
     "output_type": "stream",
     "text": [
      "Learning rate set to 0.5\n",
      "0:\tlearn: 3261.4801909\ttotal: 91.1ms\tremaining: 2.64s\n",
      "10:\tlearn: 2030.9579908\ttotal: 330ms\tremaining: 570ms\n",
      "20:\tlearn: 1930.2232541\ttotal: 537ms\tremaining: 230ms\n",
      "29:\tlearn: 1883.7068637\ttotal: 741ms\tremaining: 0us\n",
      "The RMSE for 30 is 1895.5313635203847\n",
      "Learning rate set to 0.5\n",
      "0:\tlearn: 3261.4801909\ttotal: 37ms\tremaining: 1.11s\n",
      "10:\tlearn: 2030.9579908\ttotal: 359ms\tremaining: 653ms\n",
      "20:\tlearn: 1930.2232541\ttotal: 643ms\tremaining: 306ms\n",
      "30:\tlearn: 1880.9442316\ttotal: 870ms\tremaining: 0us\n",
      "The RMSE for 31 is 1893.87100297593\n",
      "Learning rate set to 0.5\n",
      "0:\tlearn: 3261.4801909\ttotal: 33.3ms\tremaining: 1.03s\n",
      "10:\tlearn: 2030.9579908\ttotal: 281ms\tremaining: 537ms\n",
      "20:\tlearn: 1930.2232541\ttotal: 506ms\tremaining: 265ms\n",
      "30:\tlearn: 1880.9442316\ttotal: 712ms\tremaining: 23ms\n",
      "31:\tlearn: 1876.8091206\ttotal: 732ms\tremaining: 0us\n",
      "The RMSE for 32 is 1890.0817601640229\n",
      "Learning rate set to 0.5\n",
      "0:\tlearn: 3261.4801909\ttotal: 28.5ms\tremaining: 911ms\n",
      "10:\tlearn: 2030.9579908\ttotal: 246ms\tremaining: 492ms\n",
      "20:\tlearn: 1930.2232541\ttotal: 446ms\tremaining: 255ms\n",
      "30:\tlearn: 1880.9442316\ttotal: 642ms\tremaining: 41.4ms\n",
      "32:\tlearn: 1873.8655060\ttotal: 683ms\tremaining: 0us\n",
      "The RMSE for 33 is 1888.3023582032783\n",
      "Learning rate set to 0.5\n",
      "0:\tlearn: 3261.4801909\ttotal: 31.5ms\tremaining: 1.04s\n",
      "10:\tlearn: 2030.9579908\ttotal: 253ms\tremaining: 529ms\n",
      "20:\tlearn: 1930.2232541\ttotal: 449ms\tremaining: 278ms\n",
      "30:\tlearn: 1880.9442316\ttotal: 662ms\tremaining: 64.1ms\n",
      "33:\tlearn: 1868.8899594\ttotal: 729ms\tremaining: 0us\n",
      "The RMSE for 34 is 1883.9570383307241\n",
      "Learning rate set to 0.5\n",
      "0:\tlearn: 3261.4801909\ttotal: 28.9ms\tremaining: 981ms\n",
      "10:\tlearn: 2030.9579908\ttotal: 251ms\tremaining: 548ms\n",
      "20:\tlearn: 1930.2232541\ttotal: 448ms\tremaining: 298ms\n",
      "30:\tlearn: 1880.9442316\ttotal: 646ms\tremaining: 83.3ms\n",
      "34:\tlearn: 1866.6545678\ttotal: 726ms\tremaining: 0us\n",
      "The RMSE for 35 is 1882.9512565552518\n",
      "Learning rate set to 0.5\n",
      "0:\tlearn: 3261.4801909\ttotal: 27.8ms\tremaining: 974ms\n",
      "10:\tlearn: 2030.9579908\ttotal: 250ms\tremaining: 569ms\n",
      "20:\tlearn: 1930.2232541\ttotal: 457ms\tremaining: 326ms\n",
      "30:\tlearn: 1880.9442316\ttotal: 661ms\tremaining: 107ms\n",
      "35:\tlearn: 1863.8741240\ttotal: 764ms\tremaining: 0us\n",
      "The RMSE for 36 is 1880.7403539606642\n",
      "Learning rate set to 0.5\n",
      "0:\tlearn: 3261.4801909\ttotal: 29.3ms\tremaining: 1.05s\n",
      "10:\tlearn: 2030.9579908\ttotal: 250ms\tremaining: 591ms\n",
      "20:\tlearn: 1930.2232541\ttotal: 450ms\tremaining: 343ms\n",
      "30:\tlearn: 1880.9442316\ttotal: 654ms\tremaining: 127ms\n",
      "36:\tlearn: 1861.5546041\ttotal: 777ms\tremaining: 0us\n",
      "The RMSE for 37 is 1879.2063009357587\n",
      "Learning rate set to 0.5\n",
      "0:\tlearn: 3261.4801909\ttotal: 29.9ms\tremaining: 1.1s\n",
      "10:\tlearn: 2030.9579908\ttotal: 251ms\tremaining: 616ms\n",
      "20:\tlearn: 1930.2232541\ttotal: 489ms\tremaining: 396ms\n",
      "30:\tlearn: 1880.9442316\ttotal: 688ms\tremaining: 155ms\n",
      "37:\tlearn: 1856.7290263\ttotal: 835ms\tremaining: 0us\n",
      "The RMSE for 38 is 1875.5228275286079\n",
      "Learning rate set to 0.5\n",
      "0:\tlearn: 3261.4801909\ttotal: 28.4ms\tremaining: 1.08s\n",
      "10:\tlearn: 2030.9579908\ttotal: 247ms\tremaining: 628ms\n",
      "20:\tlearn: 1930.2232541\ttotal: 447ms\tremaining: 383ms\n",
      "30:\tlearn: 1880.9442316\ttotal: 653ms\tremaining: 168ms\n",
      "38:\tlearn: 1854.9591331\ttotal: 815ms\tremaining: 0us\n",
      "The RMSE for 39 is 1874.3132682738794\n",
      "Learning rate set to 0.5\n",
      "0:\tlearn: 3261.4801909\ttotal: 27.9ms\tremaining: 1.09s\n",
      "10:\tlearn: 2030.9579908\ttotal: 251ms\tremaining: 663ms\n",
      "20:\tlearn: 1930.2232541\ttotal: 457ms\tremaining: 414ms\n",
      "30:\tlearn: 1880.9442316\ttotal: 659ms\tremaining: 191ms\n",
      "39:\tlearn: 1853.1167101\ttotal: 844ms\tremaining: 0us\n",
      "The RMSE for 40 is 1873.1942334596479\n",
      "Learning rate set to 0.5\n",
      "0:\tlearn: 3261.4801909\ttotal: 30.2ms\tremaining: 1.18s\n",
      "10:\tlearn: 2030.9579908\ttotal: 251ms\tremaining: 661ms\n",
      "20:\tlearn: 1930.2232541\ttotal: 450ms\tremaining: 407ms\n",
      "30:\tlearn: 1880.9442316\ttotal: 653ms\tremaining: 190ms\n",
      "39:\tlearn: 1853.1167101\ttotal: 837ms\tremaining: 0us\n",
      "The final RMSE for 40 is 1873.1942334596479\n",
      "CPU times: user 1min 30s, sys: 3.45 s, total: 1min 34s\n",
      "Wall time: 15.6 s\n"
     ]
    },
    {
     "data": {
      "text/plain": [
       "1873.1942334596479"
      ]
     },
     "execution_count": 39,
     "metadata": {},
     "output_type": "execute_result"
    }
   ],
   "source": [
    "%%time\n",
    "cat(X_train, y_train, X_valid, y_valid, 30, 41)"
   ]
  },
  {
   "cell_type": "markdown",
   "metadata": {},
   "source": [
    "I tried multiple ways to get XGBoost to optimize, including making sure to update to the most recent version of python, deleting multiple columns, and taking the model out of a function and just manually tuning the hyperparameters, but the kernel died every single time. Since it is optional for this project, I have commented it out, but I am definitely open to suggestions. "
   ]
  },
  {
   "cell_type": "code",
   "execution_count": 40,
   "metadata": {},
   "outputs": [
    {
     "data": {
      "text/plain": [
       "\"\\n%%time\\ndef xgb(features_train, target_train, features_test, target_test, a, b):\\n\\n    best_xgb_rmse = 0\\n    best_est = 0\\n\\n    for est in range(a,b):\\n        xgb_model = XGBRegressor(objective='reg:rmse', n_estimators=est, random_state=42)\\n        xgb_model.fit(features_train, target_train)\\n        predictions = xgb_model.predict(features_test)\\n        xgb_rmse = rmse(target_test, predictions)\\n        print('The RMSE for', est, 'is', xgb_rmse) \\n  \\n        if best_xgb_rmse == 0:\\n            best_xgb_rmse = xgb_rmse\\n            best_est = est\\n        if xgb_rmse < best_xgb_rmse:\\n            best_xgb_rmse = xgb_rmse\\n            best_est = est\\n            \\n\\n    final_xgb_model = XGBRegressor(objective='reg:rmse', n_estimators=best_est, random_state=42)\\n    final_xgb_model.fit(features_train, target_train)\\n    final_xgb_predictions = final_xgb_model.predict(features_test)\\n    final_xgb_score = rmse(target_test, final_xgb_predictions)\\n    print('The final RMSE for', best_est, 'is', final_xgb_score)\\n\\n    return\""
      ]
     },
     "execution_count": 40,
     "metadata": {},
     "output_type": "execute_result"
    }
   ],
   "source": [
    "'''\n",
    "%%time\n",
    "def xgb(features_train, target_train, features_test, target_test, a, b):\n",
    "\n",
    "    best_xgb_rmse = 0\n",
    "    best_est = 0\n",
    "\n",
    "    for est in range(a,b):\n",
    "        xgb_model = XGBRegressor(objective='reg:rmse', n_estimators=est, random_state=42)\n",
    "        xgb_model.fit(features_train, target_train)\n",
    "        predictions = xgb_model.predict(features_test)\n",
    "        xgb_rmse = rmse(target_test, predictions)\n",
    "        print('The RMSE for', est, 'is', xgb_rmse) \n",
    "  \n",
    "        if best_xgb_rmse == 0:\n",
    "            best_xgb_rmse = xgb_rmse\n",
    "            best_est = est\n",
    "        if xgb_rmse < best_xgb_rmse:\n",
    "            best_xgb_rmse = xgb_rmse\n",
    "            best_est = est\n",
    "            \n",
    "\n",
    "    final_xgb_model = XGBRegressor(objective='reg:rmse', n_estimators=best_est, random_state=42)\n",
    "    final_xgb_model.fit(features_train, target_train)\n",
    "    final_xgb_predictions = final_xgb_model.predict(features_test)\n",
    "    final_xgb_score = rmse(target_test, final_xgb_predictions)\n",
    "    print('The final RMSE for', best_est, 'is', final_xgb_score)\n",
    "\n",
    "    return'''\n",
    "\n"
   ]
  },
  {
   "cell_type": "code",
   "execution_count": 41,
   "metadata": {},
   "outputs": [
    {
     "data": {
      "text/plain": [
       "\"%%time\\nfinal_xgb_model = XGBRegressor(objective='reg:rmse', n_estimators=1, random_state=42)\\nfinal_xgb_model.fit(X_encoded_train, y_encoded_train)\\nfinal_xgb_predictions = final_xgb_model.predict(X_encoded_test)\\nfinal_xgb_score = rmse(y_encoded_test, final_xgb_predictions)\\nprint('The RMSE for is', final_xgb_score)\""
      ]
     },
     "execution_count": 41,
     "metadata": {},
     "output_type": "execute_result"
    }
   ],
   "source": [
    "'''%%time\n",
    "final_xgb_model = XGBRegressor(objective='reg:rmse', n_estimators=1, random_state=42)\n",
    "final_xgb_model.fit(X_encoded_train, y_encoded_train)\n",
    "final_xgb_predictions = final_xgb_model.predict(X_encoded_test)\n",
    "final_xgb_score = rmse(y_encoded_test, final_xgb_predictions)\n",
    "print('The RMSE for is', final_xgb_score)'''\n"
   ]
  },
  {
   "cell_type": "code",
   "execution_count": 42,
   "metadata": {},
   "outputs": [],
   "source": [
    "#%%time\n",
    "#xgb(X_encoded_train, y_encoded_train, X_encoded_test, y_encoded_test, 1, 6)"
   ]
  },
  {
   "cell_type": "markdown",
   "metadata": {},
   "source": [
    "This code uses the test data with the CatBoost model and 40 iterations to verify the model."
   ]
  },
  {
   "cell_type": "code",
   "execution_count": 43,
   "metadata": {},
   "outputs": [
    {
     "name": "stdout",
     "output_type": "stream",
     "text": [
      "Learning rate set to 0.5\n",
      "0:\tlearn: 3261.4801909\ttotal: 29.9ms\tremaining: 1.17s\n",
      "10:\tlearn: 2030.9579908\ttotal: 266ms\tremaining: 700ms\n",
      "20:\tlearn: 1930.2232541\ttotal: 465ms\tremaining: 421ms\n",
      "30:\tlearn: 1880.9442316\ttotal: 669ms\tremaining: 194ms\n",
      "39:\tlearn: 1853.1167101\ttotal: 852ms\tremaining: 0us\n",
      "The RMSE for 40 iterations with the test data is is 1867.1959139733049\n"
     ]
    }
   ],
   "source": [
    "test_cat_model = CatBoostRegressor(loss_function='RMSE', iterations=40, random_seed=54321)\n",
    "test_cat_model.fit(X_train, y_train, cat_features=categorical_features, verbose=10)\n",
    "test_cat_predictions = test_cat_model.predict(X_test)\n",
    "test_cat_score = rmse(y_test, test_cat_predictions)\n",
    "print('The RMSE for 40 iterations with the test data is is', test_cat_score) "
   ]
  },
  {
   "cell_type": "markdown",
   "metadata": {},
   "source": [
    "<h1>Conclusion</h1>\n",
    "\n",
    "When comparing the models that did not use gradient boosting to the models that did, I noted that Random Forest had a higher RMSE, but took much much more time to run, even with smaller increments in the hyperparameters. It was definitely not the most optimized model. Linear Regression had an RMSE much closer to the dummy model, but it was quite high in comparison to other models. LightGBM ran quite quickly, but its RMSE scores were not as optimized as CatBoost, which also had a good runtime. With all this information, I would conclude that CatBoost is the best model for Rusty Bargain to use for their new application. "
   ]
  }
 ],
 "metadata": {
  "kernelspec": {
   "display_name": "rusty_bargain_env",
   "language": "python",
   "name": "python3"
  },
  "language_info": {
   "codemirror_mode": {
    "name": "ipython",
    "version": 3
   },
   "file_extension": ".py",
   "mimetype": "text/x-python",
   "name": "python",
   "nbconvert_exporter": "python",
   "pygments_lexer": "ipython3",
   "version": "3.11.5"
  },
  "orig_nbformat": 4
 },
 "nbformat": 4,
 "nbformat_minor": 2
}
